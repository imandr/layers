{
 "cells": [
  {
   "cell_type": "code",
   "execution_count": 1,
   "metadata": {},
   "outputs": [],
   "source": [
    "import numpy as np\n"
   ]
  },
  {
   "cell_type": "code",
   "execution_count": 48,
   "metadata": {},
   "outputs": [],
   "source": [
    "class Distortion:\n",
    "    \n",
    "    def __init__(self, dim):\n",
    "        self.dim = dim\n",
    "        self.corners = (np.random.random((dim, dim)) * 2 - 1)*0.2 # + np.eye(dim)\n",
    "        \n",
    "    def call(self, x):\n",
    "        #print \"x=\", x\n",
    "        x1 = x[...,None]\n",
    "        #print \"x1=\", x1\n",
    "        R = np.dot(1-x[...,None], np.ones((1, self.dim)))   # [mb, n, 1], [1, n] -> [mb, n, n]\n",
    "        #print R.shape\n",
    "        #print \"R[0]=\", R[0]\n",
    "        #print \"R[1]=\", R[1]\n",
    "        diagonal = np.eye(self.dim)[None,...]\n",
    "        R = R * (1.0 - diagonal) + diagonal             # R[mb, i, j] = { 1 - x[mb, i] if i != j, else 1 }\n",
    "        Q = x * np.prod(R, axis=1)\n",
    "        #print \"Q=\", Q\n",
    "        return x + np.dot(Q, self.corners)\n"
   ]
  },
  {
   "cell_type": "code",
   "execution_count": 49,
   "metadata": {},
   "outputs": [
    {
     "data": {
      "text/plain": [
       "array([[ 0.18636426,  0.16600371],\n",
       "       [-0.13904049,  0.14129723]])"
      ]
     },
     "execution_count": 49,
     "metadata": {},
     "output_type": "execute_result"
    }
   ],
   "source": [
    "d = Distortion(2)\n",
    "d.corners"
   ]
  },
  {
   "cell_type": "code",
   "execution_count": 50,
   "metadata": {},
   "outputs": [
    {
     "data": {
      "text/plain": [
       "array([[-0.04171215,  0.34238917],\n",
       "       [-0.09732834,  0.79890806],\n",
       "       [-0.13904049,  1.14129723],\n",
       "       [-0.13904049,  1.14129723],\n",
       "       [ 0.20267166,  1.09890806],\n",
       "       [ 0.65828785,  1.04238917],\n",
       "       [ 1.        ,  1.        ]])"
      ]
     },
     "execution_count": 50,
     "metadata": {},
     "output_type": "execute_result"
    }
   ],
   "source": [
    "x = np.array([\n",
    "    [0,0.3],\n",
    "    [0,0.7],\n",
    "    [0,1],\n",
    "    \n",
    "    [0.3,1],\n",
    "    [0.7,1],\n",
    "\n",
    "    [1,1]\n",
    "], dtype=np.float)\n",
    "d.call(x)\n"
   ]
  },
  {
   "cell_type": "code",
   "execution_count": 32,
   "metadata": {},
   "outputs": [
    {
     "data": {
      "text/plain": [
       "array([[[ 1.,  1.],\n",
       "        [ 0.,  0.]],\n",
       "\n",
       "       [[ 0.,  0.],\n",
       "        [ 1.,  1.]],\n",
       "\n",
       "       [[ 0.,  0.],\n",
       "        [ 0.,  0.]]])"
      ]
     },
     "execution_count": 32,
     "metadata": {},
     "output_type": "execute_result"
    }
   ],
   "source": [
    "dim = 2\n",
    "x = np.array([\n",
    "    [0,1],\n",
    "    [1,0],\n",
    "    [1,1]\n",
    "], dtype=np.float)\n",
    "R = np.dot((1-x)[:,:,None], np.ones((1, dim)))  # [m, d, 1] dot [1, d] -> [m, d, d]\n",
    "R"
   ]
  },
  {
   "cell_type": "code",
   "execution_count": 34,
   "metadata": {},
   "outputs": [
    {
     "data": {
      "text/plain": [
       "array([[[ 1.,  0.],\n",
       "        [ 0.,  1.]]])"
      ]
     },
     "execution_count": 34,
     "metadata": {},
     "output_type": "execute_result"
    }
   ],
   "source": [
    "diagonal = np.eye(dim)[None,...]\n",
    "diagonal"
   ]
  },
  {
   "cell_type": "code",
   "execution_count": 35,
   "metadata": {},
   "outputs": [],
   "source": [
    "R1 = R*(1-diagonal)+diagonal"
   ]
  },
  {
   "cell_type": "code",
   "execution_count": 36,
   "metadata": {},
   "outputs": [
    {
     "data": {
      "text/plain": [
       "array([[[ 1.,  1.],\n",
       "        [ 0.,  1.]],\n",
       "\n",
       "       [[ 1.,  0.],\n",
       "        [ 1.,  1.]],\n",
       "\n",
       "       [[ 1.,  0.],\n",
       "        [ 0.,  1.]]])"
      ]
     },
     "execution_count": 36,
     "metadata": {},
     "output_type": "execute_result"
    }
   ],
   "source": [
    "R1"
   ]
  },
  {
   "cell_type": "code",
   "execution_count": 37,
   "metadata": {},
   "outputs": [
    {
     "data": {
      "text/plain": [
       "array([[ 0.,  1.],\n",
       "       [ 1.,  0.],\n",
       "       [ 0.,  0.]])"
      ]
     },
     "execution_count": 37,
     "metadata": {},
     "output_type": "execute_result"
    }
   ],
   "source": [
    "np.prod(R1, axis=1)"
   ]
  },
  {
   "cell_type": "code",
   "execution_count": null,
   "metadata": {},
   "outputs": [],
   "source": []
  },
  {
   "cell_type": "code",
   "execution_count": null,
   "metadata": {},
   "outputs": [],
   "source": []
  }
 ],
 "metadata": {
  "kernelspec": {
   "display_name": "Python 2",
   "language": "python",
   "name": "python2"
  },
  "language_info": {
   "codemirror_mode": {
    "name": "ipython",
    "version": 2
   },
   "file_extension": ".py",
   "mimetype": "text/x-python",
   "name": "python",
   "nbconvert_exporter": "python",
   "pygments_lexer": "ipython2",
   "version": "2.7.15"
  }
 },
 "nbformat": 4,
 "nbformat_minor": 2
}
